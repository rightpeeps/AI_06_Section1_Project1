{
  "nbformat": 4,
  "nbformat_minor": 0,
  "metadata": {
    "colab": {
      "name": "AI_06_정우민_Section1",
      "provenance": [],
      "collapsed_sections": [],
      "authorship_tag": "ABX9TyOhKemk2ozuNvoWM+3Hx6sf",
      "include_colab_link": true
    },
    "kernelspec": {
      "name": "python3",
      "display_name": "Python 3"
    },
    "language_info": {
      "name": "python"
    }
  },
  "cells": [
    {
      "cell_type": "markdown",
      "metadata": {
        "id": "view-in-github",
        "colab_type": "text"
      },
      "source": [
        "<a href=\"https://colab.research.google.com/github/rightpeeps/AI_06_Section1_Project1/blob/main/AI_06_%EC%A0%95%EC%9A%B0%EB%AF%BC_Section1.ipynb\" target=\"_parent\"><img src=\"https://colab.research.google.com/assets/colab-badge.svg\" alt=\"Open In Colab\"/></a>"
      ]
    },
    {
      "cell_type": "code",
      "metadata": {
        "id": "8e2vA0sAq2HG"
      },
      "source": [
        "import pandas as pd\n",
        "import numpy as np"
      ],
      "execution_count": null,
      "outputs": []
    },
    {
      "cell_type": "code",
      "metadata": {
        "colab": {
          "base_uri": "https://localhost:8080/"
        },
        "id": "b6N3RXt1relV",
        "outputId": "77afae8a-800c-4a90-fe48-a94610630ceb"
      },
      "source": [
        "d = pd.read_csv('../content/vgames2.csv', index_col=0)\n",
        "df = d.reset_index(drop=True)\n",
        "names = np.array(df['Name'])\n",
        "df.info()"
      ],
      "execution_count": null,
      "outputs": [
        {
          "output_type": "stream",
          "text": [
            "<class 'pandas.core.frame.DataFrame'>\n",
            "RangeIndex: 16598 entries, 0 to 16597\n",
            "Data columns (total 9 columns):\n",
            " #   Column       Non-Null Count  Dtype  \n",
            "---  ------       --------------  -----  \n",
            " 0   Name         16598 non-null  object \n",
            " 1   Platform     16598 non-null  object \n",
            " 2   Year         16327 non-null  float64\n",
            " 3   Genre        16548 non-null  object \n",
            " 4   Publisher    16540 non-null  object \n",
            " 5   NA_Sales     16598 non-null  object \n",
            " 6   EU_Sales     16598 non-null  object \n",
            " 7   JP_Sales     16598 non-null  object \n",
            " 8   Other_Sales  16598 non-null  object \n",
            "dtypes: float64(1), object(8)\n",
            "memory usage: 1.1+ MB\n"
          ],
          "name": "stdout"
        }
      ]
    },
    {
      "cell_type": "code",
      "metadata": {
        "colab": {
          "base_uri": "https://localhost:8080/"
        },
        "id": "jJ9fnahUgVTV",
        "outputId": "e17fbcf5-dfca-436a-8aab-f9eaf11cdfb9"
      },
      "source": [
        "df.isnull().sum() # 'Year', 'Genre', 'Publisher' NaN개수 확인"
      ],
      "execution_count": null,
      "outputs": [
        {
          "output_type": "execute_result",
          "data": {
            "text/plain": [
              "Name             0\n",
              "Platform         0\n",
              "Year           271\n",
              "Genre           50\n",
              "Publisher       58\n",
              "NA_Sales         0\n",
              "EU_Sales         0\n",
              "JP_Sales         0\n",
              "Other_Sales      0\n",
              "dtype: int64"
            ]
          },
          "metadata": {
            "tags": []
          },
          "execution_count": 4
        }
      ]
    },
    {
      "cell_type": "code",
      "metadata": {
        "id": "nzLrtwjkAdKr"
      },
      "source": [
        "sales_df = df.filter(like='Sales')\n",
        "year_df = df[['Year']]\n",
        "rest_df = df[[\"Name\",\"Platform\",'Genre','Publisher']]"
      ],
      "execution_count": null,
      "outputs": []
    },
    {
      "cell_type": "code",
      "metadata": {
        "id": "eIvi82jmB4mV"
      },
      "source": [
        "errors_1 = sales_df['NA_Sales'][pd.to_numeric(sales_df['NA_Sales'], errors='coerce').isnull()]\n",
        "errors_2 = sales_df['EU_Sales'][pd.to_numeric(sales_df['EU_Sales'], errors='coerce').isnull()]\n",
        "errors_3 = sales_df['JP_Sales'][pd.to_numeric(sales_df['JP_Sales'], errors='coerce').isnull()]\n",
        "errors_4 = sales_df['Other_Sales'][pd.to_numeric(sales_df['Other_Sales'], errors='coerce').isnull()]"
      ],
      "execution_count": null,
      "outputs": []
    },
    {
      "cell_type": "code",
      "metadata": {
        "id": "KFa94vnDp-Q2"
      },
      "source": [
        "# 1 million = 1,000,000 / 40K = 40,000 = 0.04 Million / 0.4 Million = 400,000 = 400K / K = /1000 = /1e3\n",
        "errors_NA = errors_1.replace({'K':'/1e3','M':''},regex=True).map(pd.eval).astype(float)\n",
        "errors_EU = errors_2.replace({'K':'/1e3','M':''},regex=True).map(pd.eval).astype(float)\n",
        "errors_JP = errors_3.replace({'K':'/1e3','M':''},regex=True).map(pd.eval).astype(float)\n",
        "errors_other = errors_4.replace({'K':'/1e3','M':''},regex=True).map(pd.eval).astype(float)"
      ],
      "execution_count": null,
      "outputs": []
    },
    {
      "cell_type": "code",
      "metadata": {
        "colab": {
          "base_uri": "https://localhost:8080/",
          "height": 419
        },
        "id": "LylRZ_I1xu14",
        "outputId": "acee4922-1be7-4e34-d369-6251fd601d1c"
      },
      "source": [
        "errors_all = pd.concat([errors_NA, errors_EU, errors_JP, errors_other], axis=1)\n",
        "clean_sales_df = errors_all.combine_first(sales_df).astype(float) # clean_sales_df float으로 변경완료\n",
        "clean_sales_df['Total_Sales'] = clean_sales_df.sum(axis=1)\n",
        "clean_sales_df"
      ],
      "execution_count": null,
      "outputs": [
        {
          "output_type": "execute_result",
          "data": {
            "text/html": [
              "<div>\n",
              "<style scoped>\n",
              "    .dataframe tbody tr th:only-of-type {\n",
              "        vertical-align: middle;\n",
              "    }\n",
              "\n",
              "    .dataframe tbody tr th {\n",
              "        vertical-align: top;\n",
              "    }\n",
              "\n",
              "    .dataframe thead th {\n",
              "        text-align: right;\n",
              "    }\n",
              "</style>\n",
              "<table border=\"1\" class=\"dataframe\">\n",
              "  <thead>\n",
              "    <tr style=\"text-align: right;\">\n",
              "      <th></th>\n",
              "      <th>NA_Sales</th>\n",
              "      <th>EU_Sales</th>\n",
              "      <th>JP_Sales</th>\n",
              "      <th>Other_Sales</th>\n",
              "      <th>Total_Sales</th>\n",
              "    </tr>\n",
              "  </thead>\n",
              "  <tbody>\n",
              "    <tr>\n",
              "      <th>0</th>\n",
              "      <td>0.04</td>\n",
              "      <td>0.00</td>\n",
              "      <td>0.00</td>\n",
              "      <td>0.00</td>\n",
              "      <td>0.04</td>\n",
              "    </tr>\n",
              "    <tr>\n",
              "      <th>1</th>\n",
              "      <td>0.17</td>\n",
              "      <td>0.00</td>\n",
              "      <td>0.00</td>\n",
              "      <td>0.01</td>\n",
              "      <td>0.18</td>\n",
              "    </tr>\n",
              "    <tr>\n",
              "      <th>2</th>\n",
              "      <td>0.00</td>\n",
              "      <td>0.00</td>\n",
              "      <td>0.02</td>\n",
              "      <td>0.00</td>\n",
              "      <td>0.02</td>\n",
              "    </tr>\n",
              "    <tr>\n",
              "      <th>3</th>\n",
              "      <td>0.04</td>\n",
              "      <td>0.00</td>\n",
              "      <td>0.00</td>\n",
              "      <td>0.00</td>\n",
              "      <td>0.04</td>\n",
              "    </tr>\n",
              "    <tr>\n",
              "      <th>4</th>\n",
              "      <td>0.12</td>\n",
              "      <td>0.09</td>\n",
              "      <td>0.00</td>\n",
              "      <td>0.04</td>\n",
              "      <td>0.25</td>\n",
              "    </tr>\n",
              "    <tr>\n",
              "      <th>...</th>\n",
              "      <td>...</td>\n",
              "      <td>...</td>\n",
              "      <td>...</td>\n",
              "      <td>...</td>\n",
              "      <td>...</td>\n",
              "    </tr>\n",
              "    <tr>\n",
              "      <th>16593</th>\n",
              "      <td>0.15</td>\n",
              "      <td>0.04</td>\n",
              "      <td>0.00</td>\n",
              "      <td>0.01</td>\n",
              "      <td>0.20</td>\n",
              "    </tr>\n",
              "    <tr>\n",
              "      <th>16594</th>\n",
              "      <td>0.01</td>\n",
              "      <td>0.00</td>\n",
              "      <td>0.00</td>\n",
              "      <td>0.00</td>\n",
              "      <td>0.01</td>\n",
              "    </tr>\n",
              "    <tr>\n",
              "      <th>16595</th>\n",
              "      <td>0.44</td>\n",
              "      <td>0.19</td>\n",
              "      <td>0.03</td>\n",
              "      <td>0.13</td>\n",
              "      <td>0.79</td>\n",
              "    </tr>\n",
              "    <tr>\n",
              "      <th>16596</th>\n",
              "      <td>0.05</td>\n",
              "      <td>0.05</td>\n",
              "      <td>0.25</td>\n",
              "      <td>0.03</td>\n",
              "      <td>0.38</td>\n",
              "    </tr>\n",
              "    <tr>\n",
              "      <th>16597</th>\n",
              "      <td>0.00</td>\n",
              "      <td>0.00</td>\n",
              "      <td>0.16</td>\n",
              "      <td>0.01</td>\n",
              "      <td>0.17</td>\n",
              "    </tr>\n",
              "  </tbody>\n",
              "</table>\n",
              "<p>16598 rows × 5 columns</p>\n",
              "</div>"
            ],
            "text/plain": [
              "       NA_Sales  EU_Sales  JP_Sales  Other_Sales  Total_Sales\n",
              "0          0.04      0.00      0.00         0.00         0.04\n",
              "1          0.17      0.00      0.00         0.01         0.18\n",
              "2          0.00      0.00      0.02         0.00         0.02\n",
              "3          0.04      0.00      0.00         0.00         0.04\n",
              "4          0.12      0.09      0.00         0.04         0.25\n",
              "...         ...       ...       ...          ...          ...\n",
              "16593      0.15      0.04      0.00         0.01         0.20\n",
              "16594      0.01      0.00      0.00         0.00         0.01\n",
              "16595      0.44      0.19      0.03         0.13         0.79\n",
              "16596      0.05      0.05      0.25         0.03         0.38\n",
              "16597      0.00      0.00      0.16         0.01         0.17\n",
              "\n",
              "[16598 rows x 5 columns]"
            ]
          },
          "metadata": {
            "tags": []
          },
          "execution_count": 16
        }
      ]
    },
    {
      "cell_type": "code",
      "metadata": {
        "colab": {
          "base_uri": "https://localhost:8080/",
          "height": 297
        },
        "id": "mqOw68HtUtVp",
        "outputId": "7f167435-fb47-455c-f2d5-df2d89a760c7"
      },
      "source": [
        "errors_year = year_df[ year_df < 1980 ]\n",
        "errors_year[errors_year >= 80] = errors_year[errors_year >= 80] + 1900\n",
        "errors_year[errors_year <= 19] = errors_year[errors_year <= 19] + 2000\n",
        "\n",
        "clean_year_df = errors_year.combine_first(year_df).astype(float) # clean_sales_df float으로 combine 변경완료 / 0 > 2000 변경완료 \n",
        "clean_year_df = clean_year_df[ clean_year_df < 2020] # 2020이 한개라서 제외함\n",
        "clean_year_df.describe()"
      ],
      "execution_count": null,
      "outputs": [
        {
          "output_type": "execute_result",
          "data": {
            "text/html": [
              "<div>\n",
              "<style scoped>\n",
              "    .dataframe tbody tr th:only-of-type {\n",
              "        vertical-align: middle;\n",
              "    }\n",
              "\n",
              "    .dataframe tbody tr th {\n",
              "        vertical-align: top;\n",
              "    }\n",
              "\n",
              "    .dataframe thead th {\n",
              "        text-align: right;\n",
              "    }\n",
              "</style>\n",
              "<table border=\"1\" class=\"dataframe\">\n",
              "  <thead>\n",
              "    <tr style=\"text-align: right;\">\n",
              "      <th></th>\n",
              "      <th>Year</th>\n",
              "    </tr>\n",
              "  </thead>\n",
              "  <tbody>\n",
              "    <tr>\n",
              "      <th>count</th>\n",
              "      <td>16326.000000</td>\n",
              "    </tr>\n",
              "    <tr>\n",
              "      <th>mean</th>\n",
              "      <td>2006.405611</td>\n",
              "    </tr>\n",
              "    <tr>\n",
              "      <th>std</th>\n",
              "      <td>5.828189</td>\n",
              "    </tr>\n",
              "    <tr>\n",
              "      <th>min</th>\n",
              "      <td>1980.000000</td>\n",
              "    </tr>\n",
              "    <tr>\n",
              "      <th>25%</th>\n",
              "      <td>2003.000000</td>\n",
              "    </tr>\n",
              "    <tr>\n",
              "      <th>50%</th>\n",
              "      <td>2007.000000</td>\n",
              "    </tr>\n",
              "    <tr>\n",
              "      <th>75%</th>\n",
              "      <td>2010.000000</td>\n",
              "    </tr>\n",
              "    <tr>\n",
              "      <th>max</th>\n",
              "      <td>2017.000000</td>\n",
              "    </tr>\n",
              "  </tbody>\n",
              "</table>\n",
              "</div>"
            ],
            "text/plain": [
              "               Year\n",
              "count  16326.000000\n",
              "mean    2006.405611\n",
              "std        5.828189\n",
              "min     1980.000000\n",
              "25%     2003.000000\n",
              "50%     2007.000000\n",
              "75%     2010.000000\n",
              "max     2017.000000"
            ]
          },
          "metadata": {
            "tags": []
          },
          "execution_count": 18
        }
      ]
    },
    {
      "cell_type": "code",
      "metadata": {
        "id": "HKkumFBYl9UN"
      },
      "source": [
        "new_df = pd.concat([rest_df, clean_year_df, clean_sales_df], axis=1)\n",
        "\n",
        "#NaN Value가 있는 행들 확인\n",
        "is_NaN = new_df.isnull()\n",
        "row_has_NaN = is_NaN.any(axis=1)\n",
        "rows_with_NaN = new_df[row_has_NaN]"
      ],
      "execution_count": null,
      "outputs": []
    },
    {
      "cell_type": "code",
      "metadata": {
        "id": "K9ifESlro3cI"
      },
      "source": [
        "over3mil = rows_with_NaN[rows_with_NaN[sales_df.columns].sum(axis=1) > 3]\n",
        "update_games = np.array(over3mil)\n",
        "update_games[0,2] = 'Role-Playing'\n",
        "update_games[1,4] = 2008.0\n",
        "update_games[2,2] = 'Misc'\n",
        "update_games[3,4] = 2004.0 \n",
        "update_games[4,2] = 'Role-Playing'\n",
        "update_games[5,4] = 2004.0 \n",
        "#errors_year[errors_year <= 19] = errors_year[errors_year <= 19] + 2000\n",
        "#filter(starwars, hair_color == \"none\" & eye_color == \"black\")"
      ],
      "execution_count": null,
      "outputs": []
    },
    {
      "cell_type": "code",
      "metadata": {
        "colab": {
          "base_uri": "https://localhost:8080/"
        },
        "id": "HW_ZX1RS_wSJ",
        "outputId": "cba0f895-3c90-48b7-f4b3-f306e98f3b5c"
      },
      "source": [
        "update_games_df = pd.DataFrame(update_games, index = over3mil.index, columns = over3mil.columns)\n",
        "new_df2 = update_games_df.combine_first(new_df)\n",
        "new_df2 = new_df2.dropna(axis='rows')\n",
        "new_df2.info()"
      ],
      "execution_count": null,
      "outputs": [
        {
          "output_type": "stream",
          "text": [
            "<class 'pandas.core.frame.DataFrame'>\n",
            "Int64Index: 16246 entries, 0 to 16597\n",
            "Data columns (total 10 columns):\n",
            " #   Column       Non-Null Count  Dtype \n",
            "---  ------       --------------  ----- \n",
            " 0   Name         16246 non-null  object\n",
            " 1   Platform     16246 non-null  object\n",
            " 2   Genre        16246 non-null  object\n",
            " 3   Publisher    16246 non-null  object\n",
            " 4   Year         16246 non-null  object\n",
            " 5   NA_Sales     16246 non-null  object\n",
            " 6   EU_Sales     16246 non-null  object\n",
            " 7   JP_Sales     16246 non-null  object\n",
            " 8   Other_Sales  16246 non-null  object\n",
            " 9   Total_Sales  16246 non-null  object\n",
            "dtypes: object(10)\n",
            "memory usage: 1.4+ MB\n"
          ],
          "name": "stdout"
        }
      ]
    },
    {
      "cell_type": "code",
      "metadata": {
        "colab": {
          "base_uri": "https://localhost:8080/",
          "height": 419
        },
        "id": "yT3BCb-IExJk",
        "outputId": "515e8eec-41c2-414d-c23a-f97f231ee707"
      },
      "source": [
        "new_df2[['Year','NA_Sales','EU_Sales', 'JP_Sales','Other_Sales','Total_Sales']] = new_df2[['Year','NA_Sales','EU_Sales', 'JP_Sales','Other_Sales','Total_Sales']].apply(pd.to_numeric)\n",
        "new_df2.reset_index(drop=True)"
      ],
      "execution_count": null,
      "outputs": [
        {
          "output_type": "execute_result",
          "data": {
            "text/html": [
              "<div>\n",
              "<style scoped>\n",
              "    .dataframe tbody tr th:only-of-type {\n",
              "        vertical-align: middle;\n",
              "    }\n",
              "\n",
              "    .dataframe tbody tr th {\n",
              "        vertical-align: top;\n",
              "    }\n",
              "\n",
              "    .dataframe thead th {\n",
              "        text-align: right;\n",
              "    }\n",
              "</style>\n",
              "<table border=\"1\" class=\"dataframe\">\n",
              "  <thead>\n",
              "    <tr style=\"text-align: right;\">\n",
              "      <th></th>\n",
              "      <th>Name</th>\n",
              "      <th>Platform</th>\n",
              "      <th>Genre</th>\n",
              "      <th>Publisher</th>\n",
              "      <th>Year</th>\n",
              "      <th>NA_Sales</th>\n",
              "      <th>EU_Sales</th>\n",
              "      <th>JP_Sales</th>\n",
              "      <th>Other_Sales</th>\n",
              "      <th>Total_Sales</th>\n",
              "    </tr>\n",
              "  </thead>\n",
              "  <tbody>\n",
              "    <tr>\n",
              "      <th>0</th>\n",
              "      <td>Candace Kane's Candy Factory</td>\n",
              "      <td>DS</td>\n",
              "      <td>Action</td>\n",
              "      <td>Destineer</td>\n",
              "      <td>2008.0</td>\n",
              "      <td>0.04</td>\n",
              "      <td>0.00</td>\n",
              "      <td>0.00</td>\n",
              "      <td>0.00</td>\n",
              "      <td>0.04</td>\n",
              "    </tr>\n",
              "    <tr>\n",
              "      <th>1</th>\n",
              "      <td>The Munchables</td>\n",
              "      <td>Wii</td>\n",
              "      <td>Action</td>\n",
              "      <td>Namco Bandai Games</td>\n",
              "      <td>2009.0</td>\n",
              "      <td>0.17</td>\n",
              "      <td>0.00</td>\n",
              "      <td>0.00</td>\n",
              "      <td>0.01</td>\n",
              "      <td>0.18</td>\n",
              "    </tr>\n",
              "    <tr>\n",
              "      <th>2</th>\n",
              "      <td>Otome wa Oanesama Boku ni Koi Shiteru Portable</td>\n",
              "      <td>PSP</td>\n",
              "      <td>Adventure</td>\n",
              "      <td>Alchemist</td>\n",
              "      <td>2010.0</td>\n",
              "      <td>0.00</td>\n",
              "      <td>0.00</td>\n",
              "      <td>0.02</td>\n",
              "      <td>0.00</td>\n",
              "      <td>0.02</td>\n",
              "    </tr>\n",
              "    <tr>\n",
              "      <th>3</th>\n",
              "      <td>Deal or No Deal: Special Edition</td>\n",
              "      <td>DS</td>\n",
              "      <td>Misc</td>\n",
              "      <td>Zoo Games</td>\n",
              "      <td>2010.0</td>\n",
              "      <td>0.04</td>\n",
              "      <td>0.00</td>\n",
              "      <td>0.00</td>\n",
              "      <td>0.00</td>\n",
              "      <td>0.04</td>\n",
              "    </tr>\n",
              "    <tr>\n",
              "      <th>4</th>\n",
              "      <td>Ben 10 Ultimate Alien: Cosmic Destruction</td>\n",
              "      <td>PS3</td>\n",
              "      <td>Platform</td>\n",
              "      <td>D3Publisher</td>\n",
              "      <td>2010.0</td>\n",
              "      <td>0.12</td>\n",
              "      <td>0.09</td>\n",
              "      <td>0.00</td>\n",
              "      <td>0.04</td>\n",
              "      <td>0.25</td>\n",
              "    </tr>\n",
              "    <tr>\n",
              "      <th>...</th>\n",
              "      <td>...</td>\n",
              "      <td>...</td>\n",
              "      <td>...</td>\n",
              "      <td>...</td>\n",
              "      <td>...</td>\n",
              "      <td>...</td>\n",
              "      <td>...</td>\n",
              "      <td>...</td>\n",
              "      <td>...</td>\n",
              "      <td>...</td>\n",
              "    </tr>\n",
              "    <tr>\n",
              "      <th>16241</th>\n",
              "      <td>Ice Age 2: The Meltdown</td>\n",
              "      <td>GC</td>\n",
              "      <td>Platform</td>\n",
              "      <td>Vivendi Games</td>\n",
              "      <td>2006.0</td>\n",
              "      <td>0.15</td>\n",
              "      <td>0.04</td>\n",
              "      <td>0.00</td>\n",
              "      <td>0.01</td>\n",
              "      <td>0.20</td>\n",
              "    </tr>\n",
              "    <tr>\n",
              "      <th>16242</th>\n",
              "      <td>Rainbow Islands: Revolution</td>\n",
              "      <td>PSP</td>\n",
              "      <td>Action</td>\n",
              "      <td>Rising Star Games</td>\n",
              "      <td>2005.0</td>\n",
              "      <td>0.01</td>\n",
              "      <td>0.00</td>\n",
              "      <td>0.00</td>\n",
              "      <td>0.00</td>\n",
              "      <td>0.01</td>\n",
              "    </tr>\n",
              "    <tr>\n",
              "      <th>16243</th>\n",
              "      <td>NBA 2K16</td>\n",
              "      <td>PS3</td>\n",
              "      <td>Sports</td>\n",
              "      <td>Take-Two Interactive</td>\n",
              "      <td>2015.0</td>\n",
              "      <td>0.44</td>\n",
              "      <td>0.19</td>\n",
              "      <td>0.03</td>\n",
              "      <td>0.13</td>\n",
              "      <td>0.79</td>\n",
              "    </tr>\n",
              "    <tr>\n",
              "      <th>16244</th>\n",
              "      <td>Toukiden: The Age of Demons</td>\n",
              "      <td>PSV</td>\n",
              "      <td>Action</td>\n",
              "      <td>Tecmo Koei</td>\n",
              "      <td>2013.0</td>\n",
              "      <td>0.05</td>\n",
              "      <td>0.05</td>\n",
              "      <td>0.25</td>\n",
              "      <td>0.03</td>\n",
              "      <td>0.38</td>\n",
              "    </tr>\n",
              "    <tr>\n",
              "      <th>16245</th>\n",
              "      <td>The King of Fighters '95</td>\n",
              "      <td>PS</td>\n",
              "      <td>Fighting</td>\n",
              "      <td>Sony Computer Entertainment</td>\n",
              "      <td>1996.0</td>\n",
              "      <td>0.00</td>\n",
              "      <td>0.00</td>\n",
              "      <td>0.16</td>\n",
              "      <td>0.01</td>\n",
              "      <td>0.17</td>\n",
              "    </tr>\n",
              "  </tbody>\n",
              "</table>\n",
              "<p>16246 rows × 10 columns</p>\n",
              "</div>"
            ],
            "text/plain": [
              "                                                 Name  ... Total_Sales\n",
              "0                        Candace Kane's Candy Factory  ...        0.04\n",
              "1                                      The Munchables  ...        0.18\n",
              "2      Otome wa Oanesama Boku ni Koi Shiteru Portable  ...        0.02\n",
              "3                    Deal or No Deal: Special Edition  ...        0.04\n",
              "4           Ben 10 Ultimate Alien: Cosmic Destruction  ...        0.25\n",
              "...                                               ...  ...         ...\n",
              "16241                         Ice Age 2: The Meltdown  ...        0.20\n",
              "16242                     Rainbow Islands: Revolution  ...        0.01\n",
              "16243                                        NBA 2K16  ...        0.79\n",
              "16244                     Toukiden: The Age of Demons  ...        0.38\n",
              "16245                        The King of Fighters '95  ...        0.17\n",
              "\n",
              "[16246 rows x 10 columns]"
            ]
          },
          "metadata": {
            "tags": []
          },
          "execution_count": 26
        }
      ]
    },
    {
      "cell_type": "code",
      "metadata": {
        "colab": {
          "base_uri": "https://localhost:8080/",
          "height": 450
        },
        "id": "gRa8Ph8B6ma6",
        "outputId": "3c6f3d41-e4c5-4baf-bfd9-b3478b726b98"
      },
      "source": [
        "genre_sales = new_df2[['Genre','NA_Sales','EU_Sales','JP_Sales']] #필요한 열만 추려서 데이터프레임 만듬\n",
        "genre_sales_df = genre_sales.set_index('Genre')\n",
        "genre_sales_df"
      ],
      "execution_count": null,
      "outputs": [
        {
          "output_type": "execute_result",
          "data": {
            "text/html": [
              "<div>\n",
              "<style scoped>\n",
              "    .dataframe tbody tr th:only-of-type {\n",
              "        vertical-align: middle;\n",
              "    }\n",
              "\n",
              "    .dataframe tbody tr th {\n",
              "        vertical-align: top;\n",
              "    }\n",
              "\n",
              "    .dataframe thead th {\n",
              "        text-align: right;\n",
              "    }\n",
              "</style>\n",
              "<table border=\"1\" class=\"dataframe\">\n",
              "  <thead>\n",
              "    <tr style=\"text-align: right;\">\n",
              "      <th></th>\n",
              "      <th>NA_Sales</th>\n",
              "      <th>EU_Sales</th>\n",
              "      <th>JP_Sales</th>\n",
              "    </tr>\n",
              "    <tr>\n",
              "      <th>Genre</th>\n",
              "      <th></th>\n",
              "      <th></th>\n",
              "      <th></th>\n",
              "    </tr>\n",
              "  </thead>\n",
              "  <tbody>\n",
              "    <tr>\n",
              "      <th>Action</th>\n",
              "      <td>0.04</td>\n",
              "      <td>0.00</td>\n",
              "      <td>0.00</td>\n",
              "    </tr>\n",
              "    <tr>\n",
              "      <th>Action</th>\n",
              "      <td>0.17</td>\n",
              "      <td>0.00</td>\n",
              "      <td>0.00</td>\n",
              "    </tr>\n",
              "    <tr>\n",
              "      <th>Adventure</th>\n",
              "      <td>0.00</td>\n",
              "      <td>0.00</td>\n",
              "      <td>0.02</td>\n",
              "    </tr>\n",
              "    <tr>\n",
              "      <th>Misc</th>\n",
              "      <td>0.04</td>\n",
              "      <td>0.00</td>\n",
              "      <td>0.00</td>\n",
              "    </tr>\n",
              "    <tr>\n",
              "      <th>Platform</th>\n",
              "      <td>0.12</td>\n",
              "      <td>0.09</td>\n",
              "      <td>0.00</td>\n",
              "    </tr>\n",
              "    <tr>\n",
              "      <th>...</th>\n",
              "      <td>...</td>\n",
              "      <td>...</td>\n",
              "      <td>...</td>\n",
              "    </tr>\n",
              "    <tr>\n",
              "      <th>Platform</th>\n",
              "      <td>0.15</td>\n",
              "      <td>0.04</td>\n",
              "      <td>0.00</td>\n",
              "    </tr>\n",
              "    <tr>\n",
              "      <th>Action</th>\n",
              "      <td>0.01</td>\n",
              "      <td>0.00</td>\n",
              "      <td>0.00</td>\n",
              "    </tr>\n",
              "    <tr>\n",
              "      <th>Sports</th>\n",
              "      <td>0.44</td>\n",
              "      <td>0.19</td>\n",
              "      <td>0.03</td>\n",
              "    </tr>\n",
              "    <tr>\n",
              "      <th>Action</th>\n",
              "      <td>0.05</td>\n",
              "      <td>0.05</td>\n",
              "      <td>0.25</td>\n",
              "    </tr>\n",
              "    <tr>\n",
              "      <th>Fighting</th>\n",
              "      <td>0.00</td>\n",
              "      <td>0.00</td>\n",
              "      <td>0.16</td>\n",
              "    </tr>\n",
              "  </tbody>\n",
              "</table>\n",
              "<p>16246 rows × 3 columns</p>\n",
              "</div>"
            ],
            "text/plain": [
              "           NA_Sales  EU_Sales  JP_Sales\n",
              "Genre                                  \n",
              "Action         0.04      0.00      0.00\n",
              "Action         0.17      0.00      0.00\n",
              "Adventure      0.00      0.00      0.02\n",
              "Misc           0.04      0.00      0.00\n",
              "Platform       0.12      0.09      0.00\n",
              "...             ...       ...       ...\n",
              "Platform       0.15      0.04      0.00\n",
              "Action         0.01      0.00      0.00\n",
              "Sports         0.44      0.19      0.03\n",
              "Action         0.05      0.05      0.25\n",
              "Fighting       0.00      0.00      0.16\n",
              "\n",
              "[16246 rows x 3 columns]"
            ]
          },
          "metadata": {
            "tags": []
          },
          "execution_count": 28
        }
      ]
    },
    {
      "cell_type": "code",
      "metadata": {
        "colab": {
          "base_uri": "https://localhost:8080/",
          "height": 517
        },
        "id": "EQDOKgYWep45",
        "outputId": "2cde8af9-802a-4b81-a5a5-303f8a1f173a"
      },
      "source": [
        "import matplotlib.pyplot as plt\n",
        "\n",
        "top_genre_made = genre_sales['Genre'].value_counts(sort=True) \n",
        "top_genre_made[:10].plot(x='Genre', y=['NA_Sales', 'EU_Sales', 'JP_Sales'], kind='bar', figsize=(12,7))\n",
        "plt.title('Top 10 Genre produced',fontsize=15)\n",
        "plt.xlabel('Top 10 Genre',fontsize=15)\n",
        "plt.ylabel('Number of Games',fontsize=15)\n",
        "plt.show()"
      ],
      "execution_count": null,
      "outputs": [
        {
          "output_type": "display_data",
          "data": {
            "image/png": "[encoded data removed]",
            "text/plain": [
              "<Figure size 864x504 with 1 Axes>"
            ]
          },
          "metadata": {
            "tags": [],
            "needs_background": "light"
          }
        }
      ]
    },
    {
      "cell_type": "code",
      "metadata": {
        "colab": {
          "base_uri": "https://localhost:8080/"
        },
        "id": "oIxoa1xevhIz",
        "outputId": "38a9c75b-886f-43f2-95c0-7ead19c76b51"
      },
      "source": [
        "top_genre=genre_sales['Genre'].value_counts(sort=True) \n",
        "top_genre"
      ],
      "execution_count": null,
      "outputs": [
        {
          "output_type": "execute_result",
          "data": {
            "text/plain": [
              "Action          3241\n",
              "Sports          2301\n",
              "Misc            1682\n",
              "Role-Playing    1467\n",
              "Shooter         1280\n",
              "Adventure       1268\n",
              "Racing          1219\n",
              "Platform         873\n",
              "Simulation       845\n",
              "Fighting         835\n",
              "Strategy         669\n",
              "Puzzle           566\n",
              "Name: Genre, dtype: int64"
            ]
          },
          "metadata": {
            "tags": []
          },
          "execution_count": 30
        }
      ]
    },
    {
      "cell_type": "code",
      "metadata": {
        "colab": {
          "base_uri": "https://localhost:8080/",
          "height": 512
        },
        "id": "Ka0FUB76S84-",
        "outputId": "b8851c9c-b89b-4127-98c3-7b106b11b8ce"
      },
      "source": [
        "import matplotlib.pyplot as plt\n",
        "top_genre_area = genre_sales.groupby('Genre').sum()\n",
        "top_genre_area.sort_values('NA_Sales', ascending=False).head(10).plot(kind='bar', figsize=(12,7), stacked = True)\n",
        "plt.title('Top 10 Genre by Area',fontsize=15)\n",
        "plt.show()"
      ],
      "execution_count": null,
      "outputs": [
        {
          "output_type": "display_data",
          "data": {
            "image/png": "[encoded data removed]",
            "text/plain": [
              "<Figure size 864x504 with 1 Axes>"
            ]
          },
          "metadata": {
            "tags": [],
            "needs_background": "light"
          }
        }
      ]
    },
    {
      "cell_type": "code",
      "metadata": {
        "id": "V9bk1NKHugii",
        "colab": {
          "base_uri": "https://localhost:8080/",
          "height": 452
        },
        "outputId": "5a1e374c-21c0-4565-cb2d-133b7dc19dff"
      },
      "source": [
        "top_genre_area_percent = top_genre_area.copy()\n",
        "top_genre_area_percent['NA_Sales'] = (top_genre_area_percent['NA_Sales'] / top_genre_area_percent['NA_Sales'].sum()) * 100\n",
        "top_genre_area_percent['EU_Sales'] = (top_genre_area_percent['EU_Sales'] / top_genre_area_percent['EU_Sales'].sum()) * 100\n",
        "top_genre_area_percent['JP_Sales'] = (top_genre_area_percent['JP_Sales'] / top_genre_area_percent['JP_Sales'].sum()) * 100\n",
        "top_genre_area_percent"
      ],
      "execution_count": null,
      "outputs": [
        {
          "output_type": "execute_result",
          "data": {
            "text/html": [
              "<div>\n",
              "<style scoped>\n",
              "    .dataframe tbody tr th:only-of-type {\n",
              "        vertical-align: middle;\n",
              "    }\n",
              "\n",
              "    .dataframe tbody tr th {\n",
              "        vertical-align: top;\n",
              "    }\n",
              "\n",
              "    .dataframe thead th {\n",
              "        text-align: right;\n",
              "    }\n",
              "</style>\n",
              "<table border=\"1\" class=\"dataframe\">\n",
              "  <thead>\n",
              "    <tr style=\"text-align: right;\">\n",
              "      <th></th>\n",
              "      <th>NA_Sales</th>\n",
              "      <th>EU_Sales</th>\n",
              "      <th>JP_Sales</th>\n",
              "    </tr>\n",
              "    <tr>\n",
              "      <th>Genre</th>\n",
              "      <th></th>\n",
              "      <th></th>\n",
              "      <th></th>\n",
              "    </tr>\n",
              "  </thead>\n",
              "  <tbody>\n",
              "    <tr>\n",
              "      <th>Action</th>\n",
              "      <td>19.910835</td>\n",
              "      <td>21.401453</td>\n",
              "      <td>12.228643</td>\n",
              "    </tr>\n",
              "    <tr>\n",
              "      <th>Adventure</th>\n",
              "      <td>2.354985</td>\n",
              "      <td>2.647217</td>\n",
              "      <td>4.050445</td>\n",
              "    </tr>\n",
              "    <tr>\n",
              "      <th>Fighting</th>\n",
              "      <td>5.097957</td>\n",
              "      <td>4.154209</td>\n",
              "      <td>6.804623</td>\n",
              "    </tr>\n",
              "    <tr>\n",
              "      <th>Misc</th>\n",
              "      <td>9.173777</td>\n",
              "      <td>8.802432</td>\n",
              "      <td>8.329689</td>\n",
              "    </tr>\n",
              "    <tr>\n",
              "      <th>Platform</th>\n",
              "      <td>10.304188</td>\n",
              "      <td>8.342932</td>\n",
              "      <td>10.192878</td>\n",
              "    </tr>\n",
              "    <tr>\n",
              "      <th>Puzzle</th>\n",
              "      <td>2.812841</td>\n",
              "      <td>2.098728</td>\n",
              "      <td>4.391691</td>\n",
              "    </tr>\n",
              "    <tr>\n",
              "      <th>Racing</th>\n",
              "      <td>8.206241</td>\n",
              "      <td>9.772995</td>\n",
              "      <td>4.397938</td>\n",
              "    </tr>\n",
              "    <tr>\n",
              "      <th>Role-Playing</th>\n",
              "      <td>7.537850</td>\n",
              "      <td>7.781968</td>\n",
              "      <td>27.299703</td>\n",
              "    </tr>\n",
              "    <tr>\n",
              "      <th>Shooter</th>\n",
              "      <td>13.291010</td>\n",
              "      <td>12.900503</td>\n",
              "      <td>2.981415</td>\n",
              "    </tr>\n",
              "    <tr>\n",
              "      <th>Simulation</th>\n",
              "      <td>4.191268</td>\n",
              "      <td>4.698539</td>\n",
              "      <td>4.961737</td>\n",
              "    </tr>\n",
              "    <tr>\n",
              "      <th>Sports</th>\n",
              "      <td>15.549751</td>\n",
              "      <td>15.535244</td>\n",
              "      <td>10.527097</td>\n",
              "    </tr>\n",
              "    <tr>\n",
              "      <th>Strategy</th>\n",
              "      <td>1.569296</td>\n",
              "      <td>1.863780</td>\n",
              "      <td>3.834140</td>\n",
              "    </tr>\n",
              "  </tbody>\n",
              "</table>\n",
              "</div>"
            ],
            "text/plain": [
              "               NA_Sales   EU_Sales   JP_Sales\n",
              "Genre                                        \n",
              "Action        19.910835  21.401453  12.228643\n",
              "Adventure      2.354985   2.647217   4.050445\n",
              "Fighting       5.097957   4.154209   6.804623\n",
              "Misc           9.173777   8.802432   8.329689\n",
              "Platform      10.304188   8.342932  10.192878\n",
              "Puzzle         2.812841   2.098728   4.391691\n",
              "Racing         8.206241   9.772995   4.397938\n",
              "Role-Playing   7.537850   7.781968  27.299703\n",
              "Shooter       13.291010  12.900503   2.981415\n",
              "Simulation     4.191268   4.698539   4.961737\n",
              "Sports        15.549751  15.535244  10.527097\n",
              "Strategy       1.569296   1.863780   3.834140"
            ]
          },
          "metadata": {
            "tags": []
          },
          "execution_count": 33
        }
      ]
    },
    {
      "cell_type": "code",
      "metadata": {
        "colab": {
          "base_uri": "https://localhost:8080/"
        },
        "id": "HettV34mIx97",
        "outputId": "b24f1bde-f3cf-44f6-e0f5-3b053fcbcf5a"
      },
      "source": [
        "from scipy.stats import chi2_contingency\n",
        "\n",
        "chi2, pvalue, dof, expected = chi2_contingency(top_genre_area_percent) # correction 파라미터가 True로 설정 :  Yates’ correction 시행함 : pvalue는 약간 다름\n",
        "chi2, pvalue, dof, expected\n",
        "#p value로 봣을때 게임 장르의 종류와 지역별 출고량 값은 연관이없다 = 대립가설 : 연관이있다"
      ],
      "execution_count": null,
      "outputs": [
        {
          "output_type": "execute_result",
          "data": {
            "text/plain": [
              "(34.815652022130095,\n",
              " 0.040497554177677975,\n",
              " 22,\n",
              " array([[17.84697689, 17.84697689, 17.84697689],\n",
              "        [ 3.017549  ,  3.017549  ,  3.017549  ],\n",
              "        [ 5.35226279,  5.35226279,  5.35226279],\n",
              "        [ 8.76863269,  8.76863269,  8.76863269],\n",
              "        [ 9.61333302,  9.61333302,  9.61333302],\n",
              "        [ 3.10108687,  3.10108687,  3.10108687],\n",
              "        [ 7.4590581 ,  7.4590581 ,  7.4590581 ],\n",
              "        [14.20650727, 14.20650727, 14.20650727],\n",
              "        [ 9.72430936,  9.72430936,  9.72430936],\n",
              "        [ 4.61718117,  4.61718117,  4.61718117],\n",
              "        [13.87069732, 13.87069732, 13.87069732],\n",
              "        [ 2.42240552,  2.42240552,  2.42240552]]))"
            ]
          },
          "metadata": {
            "tags": []
          },
          "execution_count": 35
        }
      ]
    },
    {
      "cell_type": "code",
      "metadata": {
        "colab": {
          "base_uri": "https://localhost:8080/",
          "height": 442
        },
        "id": "Q2RZRVkLbaaV",
        "outputId": "2f32b586-7fba-4b8d-b5ef-4623b27f1467"
      },
      "source": [
        "year_genre_df = new_df2.groupby(['Year', 'Genre']).size().unstack(fill_value=0)\n",
        "year_genre_df.plot(figsize=(25,7), marker='o', markersize=5)\n",
        "plt.show()"
      ],
      "execution_count": null,
      "outputs": [
        {
          "output_type": "display_data",
          "data": {
            "image/png": "[encoded data removed]",
            "text/plain": [
              "<Figure size 1800x504 with 1 Axes>"
            ]
          },
          "metadata": {
            "tags": [],
            "needs_background": "light"
          }
        }
      ]
    },
    {
      "cell_type": "code",
      "metadata": {
        "id": "0NKMj2JEr907"
      },
      "source": [
        "year_genre_dx = new_df2.groupby(by=['Year', 'Genre'])['Total_Sales'].sum().reset_index()\n",
        "year_genre = year_genre_dx.groupby(by=['Year'])['Total_Sales'].transform(max) == year_genre_dx['Total_Sales']\n",
        "year_genre_max = year_genre_dx[year_genre].reset_index(drop=True)"
      ],
      "execution_count": null,
      "outputs": []
    },
    {
      "cell_type": "code",
      "metadata": {
        "id": "WGiXQjQAr8fx"
      },
      "source": [
        "genre_colors = year_genre_max['Genre'].copy()\n",
        "genre_colors = genre_colors.replace({'Shooter': 'blue', 'Action': 'green', 'Puzzle':'purple','Platform':'orange','Fighting':'red', 'Racing':'grey', 'Role-Playing':'olive', 'Sports':'coral'})"
      ],
      "execution_count": null,
      "outputs": []
    },
    {
      "cell_type": "code",
      "metadata": {
        "colab": {
          "base_uri": "https://localhost:8080/",
          "height": 483
        },
        "id": "dd9dKgNEu3tR",
        "outputId": "94f5a2d7-2b2b-449d-e167-2ca1d29e5770"
      },
      "source": [
        "year_genre_max.plot(kind='bar', x ='Year', y='Total_Sales', figsize=(16,7), color = genre_colors, legend=None)\n",
        "plt.title('Most sold genre by Year')\n",
        "plt.ylabel('Total Sales')\n",
        "plt.xlabel('Year')\n",
        "plt.show()"
      ],
      "execution_count": null,
      "outputs": [
        {
          "output_type": "display_data",
          "data": {
            "image/png": "[encoded data removed]",
            "text/plain": [
              "<Figure size 1152x504 with 1 Axes>"
            ]
          },
          "metadata": {
            "tags": [],
            "needs_background": "light"
          }
        }
      ]
    },
    {
      "cell_type": "code",
      "metadata": {
        "id": "fsXe5ezTJaf7"
      },
      "source": [
        "year_platform_dx = new_df2.groupby(by=['Year', 'Platform'])['Total_Sales'].sum().reset_index()\n",
        "year_platform = year_platform_dx.groupby(by=['Year'])['Total_Sales'].transform(max) == year_platform_dx['Total_Sales']\n",
        "year_platform_max = year_platform_dx[year_platform].reset_index(drop=True)"
      ],
      "execution_count": null,
      "outputs": []
    },
    {
      "cell_type": "code",
      "metadata": {
        "id": "3utuQR0SJyp_"
      },
      "source": [
        "platform_colors = year_platform_max['Platform'].copy()\n",
        "platform_colors = platform_colors.replace({'2600': 'blue', 'NES': 'green', 'GB':'purple', 'SNES':'grey','PS':'orange', 'PS2':'orange', 'Wii':'olive', 'X360':'coral', 'PS3':'orange', 'PS4':'orange'})"
      ],
      "execution_count": null,
      "outputs": []
    },
    {
      "cell_type": "code",
      "metadata": {
        "colab": {
          "base_uri": "https://localhost:8080/",
          "height": 483
        },
        "id": "KyzheluoKKvX",
        "outputId": "9c23b096-bae4-4365-d1f6-e2c680e88954"
      },
      "source": [
        "year_platform_max.plot(kind='bar', x ='Year', y='Total_Sales', figsize=(16,7), color = platform_colors, legend=None)\n",
        "plt.title('Most sold Platform by Year')\n",
        "plt.ylabel('Total Sales')\n",
        "plt.xlabel('platform')\n",
        "plt.show()"
      ],
      "execution_count": null,
      "outputs": [
        {
          "output_type": "display_data",
          "data": {
            "image/png": "[encoded data removed]",
            "text/plain": [
              "<Figure size 1152x504 with 1 Axes>"
            ]
          },
          "metadata": {
            "tags": [],
            "needs_background": "light"
          }
        }
      ]
    },
    {
      "cell_type": "code",
      "metadata": {
        "id": "A17mn7SwsOmw"
      },
      "source": [
        "year_publisher_dx = new_df2.groupby(by=['Year', 'Publisher'])['Total_Sales'].sum().reset_index()\n",
        "year_publisher = year_publisher_dx.groupby(by=['Year'])['Total_Sales'].transform(max) == year_publisher_dx['Total_Sales']\n",
        "year_publisher_max = year_publisher_dx[year_publisher].reset_index(drop=True)"
      ],
      "execution_count": null,
      "outputs": []
    },
    {
      "cell_type": "code",
      "metadata": {
        "id": "nBpgfOWUEL_o"
      },
      "source": [
        "publisher_colors = year_publisher_max['Publisher'].copy()\n",
        "publisher_colors = publisher_colors.replace({'Atari': 'blue', 'Activision': 'green', 'Nintendo':'purple', 'Sony Computer Entertainment':'orange', 'Electronic Arts':'red', 'Sega':'olive'})"
      ],
      "execution_count": null,
      "outputs": []
    },
    {
      "cell_type": "code",
      "metadata": {
        "colab": {
          "base_uri": "https://localhost:8080/",
          "height": 483
        },
        "id": "h5K8lXTcqygs",
        "outputId": "bff056a6-82c2-4dad-9e4e-5bef9073e20e"
      },
      "source": [
        "year_publisher_max.plot(kind='bar', x ='Year', y='Total_Sales', figsize=(16,7), color = publisher_colors, legend=None)\n",
        "plt.title('Most sold Publisher by Year')\n",
        "plt.ylabel('Total Sales')\n",
        "plt.xlabel('Year')\n",
        "plt.show()"
      ],
      "execution_count": null,
      "outputs": [
        {
          "output_type": "display_data",
          "data": {
            "image/png": "[encoded data removed]",
            "text/plain": [
              "<Figure size 1152x504 with 1 Axes>"
            ]
          },
          "metadata": {
            "tags": [],
            "needs_background": "light"
          }
        }
      ]
    },
    {
      "cell_type": "code",
      "metadata": {
        "colab": {
          "base_uri": "https://localhost:8080/",
          "height": 475
        },
        "id": "mE9kljBuv2LK",
        "outputId": "5aece277-5817-4651-adbb-af43ef218a01"
      },
      "source": [
        "byPlatform = new_df2.groupby('Platform').sum()\n",
        "byPlatform = byPlatform.reset_index().sort_values(by='Total_Sales', ascending=False)[['Total_Sales','Platform']]\n",
        "byPlatform.plot(figsize=(25,7), kind='bar', x ='Platform')\n",
        "plt.title('Total Sales by Platform')\n",
        "plt.show()"
      ],
      "execution_count": null,
      "outputs": [
        {
          "output_type": "display_data",
          "data": {
            "image/png": "[encoded data removed]",
            "text/plain": [
              "<Figure size 1800x504 with 1 Axes>"
            ]
          },
          "metadata": {
            "tags": [],
            "needs_background": "light"
          }
        }
      ]
    },
    {
      "cell_type": "code",
      "metadata": {
        "colab": {
          "base_uri": "https://localhost:8080/",
          "height": 359
        },
        "id": "hd6z4F3J82Ps",
        "outputId": "20d7b841-800c-4276-a579-98b24b169d96"
      },
      "source": [
        "top_PS = new_df2.loc[(new_df2['Genre'] == 'Action')& ( ( new_df2['Platform'] == 'PS3') | (new_df2['Platform'] == 'PS2') | (new_df2['Platform'] == 'PS4') | (new_df2['Platform'] == 'PS1') )].sort_values(by='Total_Sales' , ascending= False)\n",
        "top_PS.head(10)"
      ],
      "execution_count": null,
      "outputs": [
        {
          "output_type": "execute_result",
          "data": {
            "text/html": [
              "<div>\n",
              "<style scoped>\n",
              "    .dataframe tbody tr th:only-of-type {\n",
              "        vertical-align: middle;\n",
              "    }\n",
              "\n",
              "    .dataframe tbody tr th {\n",
              "        vertical-align: top;\n",
              "    }\n",
              "\n",
              "    .dataframe thead th {\n",
              "        text-align: right;\n",
              "    }\n",
              "</style>\n",
              "<table border=\"1\" class=\"dataframe\">\n",
              "  <thead>\n",
              "    <tr style=\"text-align: right;\">\n",
              "      <th></th>\n",
              "      <th>Name</th>\n",
              "      <th>Platform</th>\n",
              "      <th>Genre</th>\n",
              "      <th>Publisher</th>\n",
              "      <th>Year</th>\n",
              "      <th>NA_Sales</th>\n",
              "      <th>EU_Sales</th>\n",
              "      <th>JP_Sales</th>\n",
              "      <th>Other_Sales</th>\n",
              "      <th>Total_Sales</th>\n",
              "    </tr>\n",
              "  </thead>\n",
              "  <tbody>\n",
              "    <tr>\n",
              "      <th>3483</th>\n",
              "      <td>Grand Theft Auto V</td>\n",
              "      <td>PS3</td>\n",
              "      <td>Action</td>\n",
              "      <td>Take-Two Interactive</td>\n",
              "      <td>2013.0</td>\n",
              "      <td>7.01</td>\n",
              "      <td>9.27</td>\n",
              "      <td>0.97</td>\n",
              "      <td>4.14</td>\n",
              "      <td>21.39</td>\n",
              "    </tr>\n",
              "    <tr>\n",
              "      <th>14669</th>\n",
              "      <td>Grand Theft Auto: San Andreas</td>\n",
              "      <td>PS2</td>\n",
              "      <td>Action</td>\n",
              "      <td>Take-Two Interactive</td>\n",
              "      <td>2004.0</td>\n",
              "      <td>9.43</td>\n",
              "      <td>0.40</td>\n",
              "      <td>0.41</td>\n",
              "      <td>10.57</td>\n",
              "      <td>20.81</td>\n",
              "    </tr>\n",
              "    <tr>\n",
              "      <th>5340</th>\n",
              "      <td>Grand Theft Auto: Vice City</td>\n",
              "      <td>PS2</td>\n",
              "      <td>Action</td>\n",
              "      <td>Take-Two Interactive</td>\n",
              "      <td>2002.0</td>\n",
              "      <td>8.41</td>\n",
              "      <td>5.49</td>\n",
              "      <td>0.47</td>\n",
              "      <td>1.78</td>\n",
              "      <td>16.15</td>\n",
              "    </tr>\n",
              "    <tr>\n",
              "      <th>9786</th>\n",
              "      <td>Grand Theft Auto III</td>\n",
              "      <td>PS2</td>\n",
              "      <td>Action</td>\n",
              "      <td>Take-Two Interactive</td>\n",
              "      <td>2001.0</td>\n",
              "      <td>6.99</td>\n",
              "      <td>4.51</td>\n",
              "      <td>0.30</td>\n",
              "      <td>1.30</td>\n",
              "      <td>13.10</td>\n",
              "    </tr>\n",
              "    <tr>\n",
              "      <th>2008</th>\n",
              "      <td>Grand Theft Auto V</td>\n",
              "      <td>PS4</td>\n",
              "      <td>Action</td>\n",
              "      <td>Take-Two Interactive</td>\n",
              "      <td>2014.0</td>\n",
              "      <td>3.80</td>\n",
              "      <td>5.81</td>\n",
              "      <td>0.36</td>\n",
              "      <td>2.02</td>\n",
              "      <td>11.99</td>\n",
              "    </tr>\n",
              "    <tr>\n",
              "      <th>16475</th>\n",
              "      <td>Grand Theft Auto IV</td>\n",
              "      <td>PS3</td>\n",
              "      <td>Action</td>\n",
              "      <td>Take-Two Interactive</td>\n",
              "      <td>2008.0</td>\n",
              "      <td>4.76</td>\n",
              "      <td>3.76</td>\n",
              "      <td>0.44</td>\n",
              "      <td>1.62</td>\n",
              "      <td>10.58</td>\n",
              "    </tr>\n",
              "    <tr>\n",
              "      <th>9035</th>\n",
              "      <td>FIFA Soccer 13</td>\n",
              "      <td>PS3</td>\n",
              "      <td>Action</td>\n",
              "      <td>Electronic Arts</td>\n",
              "      <td>2012.0</td>\n",
              "      <td>1.06</td>\n",
              "      <td>5.05</td>\n",
              "      <td>0.13</td>\n",
              "      <td>2.01</td>\n",
              "      <td>8.25</td>\n",
              "    </tr>\n",
              "    <tr>\n",
              "      <th>11868</th>\n",
              "      <td>Uncharted 3: Drake's Deception</td>\n",
              "      <td>PS3</td>\n",
              "      <td>Action</td>\n",
              "      <td>Sony Computer Entertainment</td>\n",
              "      <td>2011.0</td>\n",
              "      <td>2.77</td>\n",
              "      <td>2.80</td>\n",
              "      <td>0.19</td>\n",
              "      <td>1.06</td>\n",
              "      <td>6.82</td>\n",
              "    </tr>\n",
              "    <tr>\n",
              "      <th>13552</th>\n",
              "      <td>Uncharted 2: Among Thieves</td>\n",
              "      <td>PS3</td>\n",
              "      <td>Action</td>\n",
              "      <td>Sony Computer Entertainment</td>\n",
              "      <td>2009.0</td>\n",
              "      <td>3.27</td>\n",
              "      <td>2.25</td>\n",
              "      <td>0.21</td>\n",
              "      <td>1.00</td>\n",
              "      <td>6.73</td>\n",
              "    </tr>\n",
              "    <tr>\n",
              "      <th>16276</th>\n",
              "      <td>Red Dead Redemption</td>\n",
              "      <td>PS3</td>\n",
              "      <td>Action</td>\n",
              "      <td>Take-Two Interactive</td>\n",
              "      <td>2010.0</td>\n",
              "      <td>2.79</td>\n",
              "      <td>2.61</td>\n",
              "      <td>0.17</td>\n",
              "      <td>1.03</td>\n",
              "      <td>6.60</td>\n",
              "    </tr>\n",
              "  </tbody>\n",
              "</table>\n",
              "</div>"
            ],
            "text/plain": [
              "                                 Name Platform  ... Other_Sales Total_Sales\n",
              "3483               Grand Theft Auto V      PS3  ...        4.14       21.39\n",
              "14669   Grand Theft Auto: San Andreas      PS2  ...       10.57       20.81\n",
              "5340      Grand Theft Auto: Vice City      PS2  ...        1.78       16.15\n",
              "9786             Grand Theft Auto III      PS2  ...        1.30       13.10\n",
              "2008               Grand Theft Auto V      PS4  ...        2.02       11.99\n",
              "16475             Grand Theft Auto IV      PS3  ...        1.62       10.58\n",
              "9035                   FIFA Soccer 13      PS3  ...        2.01        8.25\n",
              "11868  Uncharted 3: Drake's Deception      PS3  ...        1.06        6.82\n",
              "13552      Uncharted 2: Among Thieves      PS3  ...        1.00        6.73\n",
              "16276             Red Dead Redemption      PS3  ...        1.03        6.60\n",
              "\n",
              "[10 rows x 10 columns]"
            ]
          },
          "metadata": {
            "tags": []
          },
          "execution_count": 46
        }
      ]
    },
    {
      "cell_type": "code",
      "metadata": {
        "colab": {
          "base_uri": "https://localhost:8080/",
          "height": 419
        },
        "id": "FwOsAGC3mMN6",
        "outputId": "18278c31-bfc3-4505-e342-36d180cbea24"
      },
      "source": [
        "top_Wii = new_df2.loc[( (new_df2['Genre'] == 'Action') | (new_df2['Genre'] == 'Sports'))  & ( new_df2['Platform'] == 'Wii' )].sort_values(by='Total_Sales' , ascending= False)\n",
        "top_Wii"
      ],
      "execution_count": null,
      "outputs": [
        {
          "output_type": "execute_result",
          "data": {
            "text/html": [
              "<div>\n",
              "<style scoped>\n",
              "    .dataframe tbody tr th:only-of-type {\n",
              "        vertical-align: middle;\n",
              "    }\n",
              "\n",
              "    .dataframe tbody tr th {\n",
              "        vertical-align: top;\n",
              "    }\n",
              "\n",
              "    .dataframe thead th {\n",
              "        text-align: right;\n",
              "    }\n",
              "</style>\n",
              "<table border=\"1\" class=\"dataframe\">\n",
              "  <thead>\n",
              "    <tr style=\"text-align: right;\">\n",
              "      <th></th>\n",
              "      <th>Name</th>\n",
              "      <th>Platform</th>\n",
              "      <th>Genre</th>\n",
              "      <th>Publisher</th>\n",
              "      <th>Year</th>\n",
              "      <th>NA_Sales</th>\n",
              "      <th>EU_Sales</th>\n",
              "      <th>JP_Sales</th>\n",
              "      <th>Other_Sales</th>\n",
              "      <th>Total_Sales</th>\n",
              "    </tr>\n",
              "  </thead>\n",
              "  <tbody>\n",
              "    <tr>\n",
              "      <th>2908</th>\n",
              "      <td>Wii Sports</td>\n",
              "      <td>Wii</td>\n",
              "      <td>Sports</td>\n",
              "      <td>Nintendo</td>\n",
              "      <td>2006.0</td>\n",
              "      <td>41.49</td>\n",
              "      <td>29.02</td>\n",
              "      <td>3.77</td>\n",
              "      <td>8.46</td>\n",
              "      <td>82.74</td>\n",
              "    </tr>\n",
              "    <tr>\n",
              "      <th>3352</th>\n",
              "      <td>Wii Sports Resort</td>\n",
              "      <td>Wii</td>\n",
              "      <td>Sports</td>\n",
              "      <td>Nintendo</td>\n",
              "      <td>2009.0</td>\n",
              "      <td>15.75</td>\n",
              "      <td>11.01</td>\n",
              "      <td>3.28</td>\n",
              "      <td>2.96</td>\n",
              "      <td>33.00</td>\n",
              "    </tr>\n",
              "    <tr>\n",
              "      <th>3435</th>\n",
              "      <td>Wii Fit</td>\n",
              "      <td>Wii</td>\n",
              "      <td>Sports</td>\n",
              "      <td>Nintendo</td>\n",
              "      <td>2007.0</td>\n",
              "      <td>8.94</td>\n",
              "      <td>8.03</td>\n",
              "      <td>3.60</td>\n",
              "      <td>2.15</td>\n",
              "      <td>22.72</td>\n",
              "    </tr>\n",
              "    <tr>\n",
              "      <th>10899</th>\n",
              "      <td>Wii Fit Plus</td>\n",
              "      <td>Wii</td>\n",
              "      <td>Sports</td>\n",
              "      <td>Nintendo</td>\n",
              "      <td>2009.0</td>\n",
              "      <td>9.09</td>\n",
              "      <td>8.59</td>\n",
              "      <td>2.53</td>\n",
              "      <td>1.79</td>\n",
              "      <td>22.00</td>\n",
              "    </tr>\n",
              "    <tr>\n",
              "      <th>8482</th>\n",
              "      <td>Mario &amp; Sonic at the Olympic Games</td>\n",
              "      <td>Wii</td>\n",
              "      <td>Sports</td>\n",
              "      <td>Sega</td>\n",
              "      <td>2007.0</td>\n",
              "      <td>2.58</td>\n",
              "      <td>3.90</td>\n",
              "      <td>0.66</td>\n",
              "      <td>0.91</td>\n",
              "      <td>8.05</td>\n",
              "    </tr>\n",
              "    <tr>\n",
              "      <th>...</th>\n",
              "      <td>...</td>\n",
              "      <td>...</td>\n",
              "      <td>...</td>\n",
              "      <td>...</td>\n",
              "      <td>...</td>\n",
              "      <td>...</td>\n",
              "      <td>...</td>\n",
              "      <td>...</td>\n",
              "      <td>...</td>\n",
              "      <td>...</td>\n",
              "    </tr>\n",
              "    <tr>\n",
              "      <th>330</th>\n",
              "      <td>Katekyoo Hitman Reborn! Kindan no Yami no Delta</td>\n",
              "      <td>Wii</td>\n",
              "      <td>Action</td>\n",
              "      <td>Marvelous Interactive</td>\n",
              "      <td>2008.0</td>\n",
              "      <td>0.00</td>\n",
              "      <td>0.00</td>\n",
              "      <td>0.01</td>\n",
              "      <td>0.00</td>\n",
              "      <td>0.01</td>\n",
              "    </tr>\n",
              "    <tr>\n",
              "      <th>12332</th>\n",
              "      <td>The Cages: Pro Style Batting Practice</td>\n",
              "      <td>Wii</td>\n",
              "      <td>Sports</td>\n",
              "      <td>Konami Digital Entertainment</td>\n",
              "      <td>2010.0</td>\n",
              "      <td>0.01</td>\n",
              "      <td>0.00</td>\n",
              "      <td>0.00</td>\n",
              "      <td>0.00</td>\n",
              "      <td>0.01</td>\n",
              "    </tr>\n",
              "    <tr>\n",
              "      <th>16027</th>\n",
              "      <td>Sengoku Basara 2 Heroes</td>\n",
              "      <td>Wii</td>\n",
              "      <td>Action</td>\n",
              "      <td>Capcom</td>\n",
              "      <td>2007.0</td>\n",
              "      <td>0.00</td>\n",
              "      <td>0.00</td>\n",
              "      <td>0.01</td>\n",
              "      <td>0.00</td>\n",
              "      <td>0.01</td>\n",
              "    </tr>\n",
              "    <tr>\n",
              "      <th>10969</th>\n",
              "      <td>Family Jockey</td>\n",
              "      <td>Wii</td>\n",
              "      <td>Sports</td>\n",
              "      <td>Namco Bandai Games</td>\n",
              "      <td>2008.0</td>\n",
              "      <td>0.00</td>\n",
              "      <td>0.00</td>\n",
              "      <td>0.01</td>\n",
              "      <td>0.00</td>\n",
              "      <td>0.01</td>\n",
              "    </tr>\n",
              "    <tr>\n",
              "      <th>14851</th>\n",
              "      <td>Teenage Mutant Ninja Turtles</td>\n",
              "      <td>Wii</td>\n",
              "      <td>Action</td>\n",
              "      <td>Konami Digital Entertainment</td>\n",
              "      <td>2007.0</td>\n",
              "      <td>0.00</td>\n",
              "      <td>0.01</td>\n",
              "      <td>0.00</td>\n",
              "      <td>0.00</td>\n",
              "      <td>0.01</td>\n",
              "    </tr>\n",
              "  </tbody>\n",
              "</table>\n",
              "<p>486 rows × 10 columns</p>\n",
              "</div>"
            ],
            "text/plain": [
              "                                                  Name  ... Total_Sales\n",
              "2908                                        Wii Sports  ...       82.74\n",
              "3352                                 Wii Sports Resort  ...       33.00\n",
              "3435                                           Wii Fit  ...       22.72\n",
              "10899                                     Wii Fit Plus  ...       22.00\n",
              "8482                Mario & Sonic at the Olympic Games  ...        8.05\n",
              "...                                                ...  ...         ...\n",
              "330    Katekyoo Hitman Reborn! Kindan no Yami no Delta  ...        0.01\n",
              "12332            The Cages: Pro Style Batting Practice  ...        0.01\n",
              "16027                          Sengoku Basara 2 Heroes  ...        0.01\n",
              "10969                                    Family Jockey  ...        0.01\n",
              "14851                     Teenage Mutant Ninja Turtles  ...        0.01\n",
              "\n",
              "[486 rows x 10 columns]"
            ]
          },
          "metadata": {
            "tags": []
          },
          "execution_count": 47
        }
      ]
    },
    {
      "cell_type": "code",
      "metadata": {
        "colab": {
          "base_uri": "https://localhost:8080/",
          "height": 359
        },
        "id": "oboFOOgp3dJq",
        "outputId": "b166c471-1302-4631-ec63-ea88ad83d8b8"
      },
      "source": [
        "top_X360 = new_df2.loc[( (new_df2['Genre'] == 'Action') | (new_df2['Genre'] == 'Sports'))  & ( new_df2['Platform'] == 'X360' )].sort_values(by='Total_Sales' , ascending= False)\n",
        "top_X360.head(10)"
      ],
      "execution_count": null,
      "outputs": [
        {
          "output_type": "execute_result",
          "data": {
            "text/html": [
              "<div>\n",
              "<style scoped>\n",
              "    .dataframe tbody tr th:only-of-type {\n",
              "        vertical-align: middle;\n",
              "    }\n",
              "\n",
              "    .dataframe tbody tr th {\n",
              "        vertical-align: top;\n",
              "    }\n",
              "\n",
              "    .dataframe thead th {\n",
              "        text-align: right;\n",
              "    }\n",
              "</style>\n",
              "<table border=\"1\" class=\"dataframe\">\n",
              "  <thead>\n",
              "    <tr style=\"text-align: right;\">\n",
              "      <th></th>\n",
              "      <th>Name</th>\n",
              "      <th>Platform</th>\n",
              "      <th>Genre</th>\n",
              "      <th>Publisher</th>\n",
              "      <th>Year</th>\n",
              "      <th>NA_Sales</th>\n",
              "      <th>EU_Sales</th>\n",
              "      <th>JP_Sales</th>\n",
              "      <th>Other_Sales</th>\n",
              "      <th>Total_Sales</th>\n",
              "    </tr>\n",
              "  </thead>\n",
              "  <tbody>\n",
              "    <tr>\n",
              "      <th>10913</th>\n",
              "      <td>Grand Theft Auto V</td>\n",
              "      <td>X360</td>\n",
              "      <td>Action</td>\n",
              "      <td>Take-Two Interactive</td>\n",
              "      <td>2013.0</td>\n",
              "      <td>9.63</td>\n",
              "      <td>5.31</td>\n",
              "      <td>0.06</td>\n",
              "      <td>1.38</td>\n",
              "      <td>16.38</td>\n",
              "    </tr>\n",
              "    <tr>\n",
              "      <th>13926</th>\n",
              "      <td>Grand Theft Auto IV</td>\n",
              "      <td>X360</td>\n",
              "      <td>Action</td>\n",
              "      <td>Take-Two Interactive</td>\n",
              "      <td>2008.0</td>\n",
              "      <td>6.76</td>\n",
              "      <td>3.10</td>\n",
              "      <td>0.14</td>\n",
              "      <td>1.03</td>\n",
              "      <td>11.03</td>\n",
              "    </tr>\n",
              "    <tr>\n",
              "      <th>10131</th>\n",
              "      <td>Red Dead Redemption</td>\n",
              "      <td>X360</td>\n",
              "      <td>Action</td>\n",
              "      <td>Take-Two Interactive</td>\n",
              "      <td>2010.0</td>\n",
              "      <td>3.70</td>\n",
              "      <td>1.97</td>\n",
              "      <td>0.09</td>\n",
              "      <td>0.57</td>\n",
              "      <td>6.33</td>\n",
              "    </tr>\n",
              "    <tr>\n",
              "      <th>5601</th>\n",
              "      <td>Kinect Sports</td>\n",
              "      <td>X360</td>\n",
              "      <td>Sports</td>\n",
              "      <td>Microsoft Game Studios</td>\n",
              "      <td>2010.0</td>\n",
              "      <td>3.92</td>\n",
              "      <td>1.78</td>\n",
              "      <td>0.03</td>\n",
              "      <td>0.51</td>\n",
              "      <td>6.24</td>\n",
              "    </tr>\n",
              "    <tr>\n",
              "      <th>15639</th>\n",
              "      <td>Assassin's Creed III</td>\n",
              "      <td>X360</td>\n",
              "      <td>Action</td>\n",
              "      <td>Ubisoft</td>\n",
              "      <td>2012.0</td>\n",
              "      <td>3.13</td>\n",
              "      <td>1.71</td>\n",
              "      <td>0.03</td>\n",
              "      <td>0.44</td>\n",
              "      <td>5.31</td>\n",
              "    </tr>\n",
              "    <tr>\n",
              "      <th>8132</th>\n",
              "      <td>Assassin's Creed II</td>\n",
              "      <td>X360</td>\n",
              "      <td>Action</td>\n",
              "      <td>Ubisoft</td>\n",
              "      <td>2009.0</td>\n",
              "      <td>3.10</td>\n",
              "      <td>1.56</td>\n",
              "      <td>0.08</td>\n",
              "      <td>0.51</td>\n",
              "      <td>5.25</td>\n",
              "    </tr>\n",
              "    <tr>\n",
              "      <th>12463</th>\n",
              "      <td>FIFA Soccer 13</td>\n",
              "      <td>X360</td>\n",
              "      <td>Action</td>\n",
              "      <td>Electronic Arts</td>\n",
              "      <td>2012.0</td>\n",
              "      <td>1.08</td>\n",
              "      <td>3.48</td>\n",
              "      <td>0.03</td>\n",
              "      <td>0.58</td>\n",
              "      <td>5.17</td>\n",
              "    </tr>\n",
              "    <tr>\n",
              "      <th>3116</th>\n",
              "      <td>Batman: Arkham City</td>\n",
              "      <td>X360</td>\n",
              "      <td>Action</td>\n",
              "      <td>Warner Bros. Interactive Entertainment</td>\n",
              "      <td>2011.0</td>\n",
              "      <td>2.99</td>\n",
              "      <td>1.31</td>\n",
              "      <td>0.04</td>\n",
              "      <td>0.41</td>\n",
              "      <td>4.75</td>\n",
              "    </tr>\n",
              "    <tr>\n",
              "      <th>7865</th>\n",
              "      <td>FIFA 14</td>\n",
              "      <td>X360</td>\n",
              "      <td>Sports</td>\n",
              "      <td>Electronic Arts</td>\n",
              "      <td>2013.0</td>\n",
              "      <td>0.92</td>\n",
              "      <td>2.93</td>\n",
              "      <td>0.01</td>\n",
              "      <td>0.46</td>\n",
              "      <td>4.32</td>\n",
              "    </tr>\n",
              "    <tr>\n",
              "      <th>5064</th>\n",
              "      <td>Assassin's Creed: Revelations</td>\n",
              "      <td>X360</td>\n",
              "      <td>Action</td>\n",
              "      <td>Ubisoft</td>\n",
              "      <td>2011.0</td>\n",
              "      <td>2.25</td>\n",
              "      <td>1.47</td>\n",
              "      <td>0.04</td>\n",
              "      <td>0.43</td>\n",
              "      <td>4.19</td>\n",
              "    </tr>\n",
              "  </tbody>\n",
              "</table>\n",
              "</div>"
            ],
            "text/plain": [
              "                                Name Platform  ... Other_Sales Total_Sales\n",
              "10913             Grand Theft Auto V     X360  ...        1.38       16.38\n",
              "13926            Grand Theft Auto IV     X360  ...        1.03       11.03\n",
              "10131            Red Dead Redemption     X360  ...        0.57        6.33\n",
              "5601                   Kinect Sports     X360  ...        0.51        6.24\n",
              "15639           Assassin's Creed III     X360  ...        0.44        5.31\n",
              "8132             Assassin's Creed II     X360  ...        0.51        5.25\n",
              "12463                 FIFA Soccer 13     X360  ...        0.58        5.17\n",
              "3116             Batman: Arkham City     X360  ...        0.41        4.75\n",
              "7865                         FIFA 14     X360  ...        0.46        4.32\n",
              "5064   Assassin's Creed: Revelations     X360  ...        0.43        4.19\n",
              "\n",
              "[10 rows x 10 columns]"
            ]
          },
          "metadata": {
            "tags": []
          },
          "execution_count": 48
        }
      ]
    },
    {
      "cell_type": "code",
      "metadata": {
        "colab": {
          "base_uri": "https://localhost:8080/",
          "height": 235
        },
        "id": "3Vq3bOy9oPLD",
        "outputId": "6773bce5-e3f6-4007-ab82-98fd943ee340"
      },
      "source": [
        "year_genre_percent = year_genre_df.copy()\n",
        "year_genre_percent['Total'] = year_genre_percent.sum(axis=1)\n",
        "year_genre_percent.iloc[:, :-1] = year_genre_percent.iloc[:, :-1].div(year_genre_percent['Total'], axis=0)\n",
        "year_genre_percent.head(5)"
      ],
      "execution_count": null,
      "outputs": [
        {
          "output_type": "execute_result",
          "data": {
            "text/html": [
              "<div>\n",
              "<style scoped>\n",
              "    .dataframe tbody tr th:only-of-type {\n",
              "        vertical-align: middle;\n",
              "    }\n",
              "\n",
              "    .dataframe tbody tr th {\n",
              "        vertical-align: top;\n",
              "    }\n",
              "\n",
              "    .dataframe thead th {\n",
              "        text-align: right;\n",
              "    }\n",
              "</style>\n",
              "<table border=\"1\" class=\"dataframe\">\n",
              "  <thead>\n",
              "    <tr style=\"text-align: right;\">\n",
              "      <th>Genre</th>\n",
              "      <th>Action</th>\n",
              "      <th>Adventure</th>\n",
              "      <th>Fighting</th>\n",
              "      <th>Misc</th>\n",
              "      <th>Platform</th>\n",
              "      <th>Puzzle</th>\n",
              "      <th>Racing</th>\n",
              "      <th>Role-Playing</th>\n",
              "      <th>Shooter</th>\n",
              "      <th>Simulation</th>\n",
              "      <th>Sports</th>\n",
              "      <th>Strategy</th>\n",
              "      <th>Total</th>\n",
              "    </tr>\n",
              "    <tr>\n",
              "      <th>Year</th>\n",
              "      <th></th>\n",
              "      <th></th>\n",
              "      <th></th>\n",
              "      <th></th>\n",
              "      <th></th>\n",
              "      <th></th>\n",
              "      <th></th>\n",
              "      <th></th>\n",
              "      <th></th>\n",
              "      <th></th>\n",
              "      <th></th>\n",
              "      <th></th>\n",
              "      <th></th>\n",
              "    </tr>\n",
              "  </thead>\n",
              "  <tbody>\n",
              "    <tr>\n",
              "      <th>1980.0</th>\n",
              "      <td>0.125000</td>\n",
              "      <td>0.000000</td>\n",
              "      <td>0.125</td>\n",
              "      <td>0.500000</td>\n",
              "      <td>0.000000</td>\n",
              "      <td>0.000000</td>\n",
              "      <td>0.000000</td>\n",
              "      <td>0.0</td>\n",
              "      <td>0.250000</td>\n",
              "      <td>0.000000</td>\n",
              "      <td>0.000000</td>\n",
              "      <td>0.0</td>\n",
              "      <td>8</td>\n",
              "    </tr>\n",
              "    <tr>\n",
              "      <th>1981.0</th>\n",
              "      <td>0.543478</td>\n",
              "      <td>0.000000</td>\n",
              "      <td>0.000</td>\n",
              "      <td>0.000000</td>\n",
              "      <td>0.065217</td>\n",
              "      <td>0.043478</td>\n",
              "      <td>0.021739</td>\n",
              "      <td>0.0</td>\n",
              "      <td>0.217391</td>\n",
              "      <td>0.021739</td>\n",
              "      <td>0.086957</td>\n",
              "      <td>0.0</td>\n",
              "      <td>46</td>\n",
              "    </tr>\n",
              "    <tr>\n",
              "      <th>1982.0</th>\n",
              "      <td>0.500000</td>\n",
              "      <td>0.000000</td>\n",
              "      <td>0.000</td>\n",
              "      <td>0.027778</td>\n",
              "      <td>0.138889</td>\n",
              "      <td>0.083333</td>\n",
              "      <td>0.055556</td>\n",
              "      <td>0.0</td>\n",
              "      <td>0.138889</td>\n",
              "      <td>0.000000</td>\n",
              "      <td>0.055556</td>\n",
              "      <td>0.0</td>\n",
              "      <td>36</td>\n",
              "    </tr>\n",
              "    <tr>\n",
              "      <th>1983.0</th>\n",
              "      <td>0.411765</td>\n",
              "      <td>0.058824</td>\n",
              "      <td>0.000</td>\n",
              "      <td>0.058824</td>\n",
              "      <td>0.294118</td>\n",
              "      <td>0.058824</td>\n",
              "      <td>0.000000</td>\n",
              "      <td>0.0</td>\n",
              "      <td>0.058824</td>\n",
              "      <td>0.000000</td>\n",
              "      <td>0.058824</td>\n",
              "      <td>0.0</td>\n",
              "      <td>17</td>\n",
              "    </tr>\n",
              "    <tr>\n",
              "      <th>1984.0</th>\n",
              "      <td>0.071429</td>\n",
              "      <td>0.000000</td>\n",
              "      <td>0.000</td>\n",
              "      <td>0.071429</td>\n",
              "      <td>0.071429</td>\n",
              "      <td>0.214286</td>\n",
              "      <td>0.214286</td>\n",
              "      <td>0.0</td>\n",
              "      <td>0.214286</td>\n",
              "      <td>0.000000</td>\n",
              "      <td>0.142857</td>\n",
              "      <td>0.0</td>\n",
              "      <td>14</td>\n",
              "    </tr>\n",
              "  </tbody>\n",
              "</table>\n",
              "</div>"
            ],
            "text/plain": [
              "Genre     Action  Adventure  Fighting  ...    Sports  Strategy  Total\n",
              "Year                                   ...                           \n",
              "1980.0  0.125000   0.000000     0.125  ...  0.000000       0.0      8\n",
              "1981.0  0.543478   0.000000     0.000  ...  0.086957       0.0     46\n",
              "1982.0  0.500000   0.000000     0.000  ...  0.055556       0.0     36\n",
              "1983.0  0.411765   0.058824     0.000  ...  0.058824       0.0     17\n",
              "1984.0  0.071429   0.000000     0.000  ...  0.142857       0.0     14\n",
              "\n",
              "[5 rows x 13 columns]"
            ]
          },
          "metadata": {
            "tags": []
          },
          "execution_count": 72
        }
      ]
    },
    {
      "cell_type": "code",
      "metadata": {
        "colab": {
          "base_uri": "https://localhost:8080/"
        },
        "id": "pgUTDy9E50Xc",
        "outputId": "8714a51f-d180-46e0-a48d-e48a4b0690fc"
      },
      "source": [
        "chi2_contingency(year_genre_percent.iloc[:, :-1])\n",
        "\n",
        "# 귀무가설: 연도와 장르는 연관이 없다  \n",
        "# 대립가설: 연관이 있다\n",
        "# pvalue 가 1.0 이므로 귀무가설이 틀리지 않았다, 연관이없다"
      ],
      "execution_count": null,
      "outputs": [
        {
          "output_type": "execute_result",
          "data": {
            "text/plain": [
              "(24.33067034907991,\n",
              " 1.0,\n",
              " 407,\n",
              " array([[0.19813189, 0.05090923, 0.05748103, 0.07527215, 0.09621308,\n",
              "         0.05609016, 0.06635815, 0.10387355, 0.0906369 , 0.03735708,\n",
              "         0.13537753, 0.03229925],\n",
              "        [0.19813189, 0.05090923, 0.05748103, 0.07527215, 0.09621308,\n",
              "         0.05609016, 0.06635815, 0.10387355, 0.0906369 , 0.03735708,\n",
              "         0.13537753, 0.03229925],\n",
              "        [0.19813189, 0.05090923, 0.05748103, 0.07527215, 0.09621308,\n",
              "         0.05609016, 0.06635815, 0.10387355, 0.0906369 , 0.03735708,\n",
              "         0.13537753, 0.03229925],\n",
              "        [0.19813189, 0.05090923, 0.05748103, 0.07527215, 0.09621308,\n",
              "         0.05609016, 0.06635815, 0.10387355, 0.0906369 , 0.03735708,\n",
              "         0.13537753, 0.03229925],\n",
              "        [0.19813189, 0.05090923, 0.05748103, 0.07527215, 0.09621308,\n",
              "         0.05609016, 0.06635815, 0.10387355, 0.0906369 , 0.03735708,\n",
              "         0.13537753, 0.03229925],\n",
              "        [0.19813189, 0.05090923, 0.05748103, 0.07527215, 0.09621308,\n",
              "         0.05609016, 0.06635815, 0.10387355, 0.0906369 , 0.03735708,\n",
              "         0.13537753, 0.03229925],\n",
              "        [0.19813189, 0.05090923, 0.05748103, 0.07527215, 0.09621308,\n",
              "         0.05609016, 0.06635815, 0.10387355, 0.0906369 , 0.03735708,\n",
              "         0.13537753, 0.03229925],\n",
              "        [0.19813189, 0.05090923, 0.05748103, 0.07527215, 0.09621308,\n",
              "         0.05609016, 0.06635815, 0.10387355, 0.0906369 , 0.03735708,\n",
              "         0.13537753, 0.03229925],\n",
              "        [0.19813189, 0.05090923, 0.05748103, 0.07527215, 0.09621308,\n",
              "         0.05609016, 0.06635815, 0.10387355, 0.0906369 , 0.03735708,\n",
              "         0.13537753, 0.03229925],\n",
              "        [0.19813189, 0.05090923, 0.05748103, 0.07527215, 0.09621308,\n",
              "         0.05609016, 0.06635815, 0.10387355, 0.0906369 , 0.03735708,\n",
              "         0.13537753, 0.03229925],\n",
              "        [0.19813189, 0.05090923, 0.05748103, 0.07527215, 0.09621308,\n",
              "         0.05609016, 0.06635815, 0.10387355, 0.0906369 , 0.03735708,\n",
              "         0.13537753, 0.03229925],\n",
              "        [0.19813189, 0.05090923, 0.05748103, 0.07527215, 0.09621308,\n",
              "         0.05609016, 0.06635815, 0.10387355, 0.0906369 , 0.03735708,\n",
              "         0.13537753, 0.03229925],\n",
              "        [0.19813189, 0.05090923, 0.05748103, 0.07527215, 0.09621308,\n",
              "         0.05609016, 0.06635815, 0.10387355, 0.0906369 , 0.03735708,\n",
              "         0.13537753, 0.03229925],\n",
              "        [0.19813189, 0.05090923, 0.05748103, 0.07527215, 0.09621308,\n",
              "         0.05609016, 0.06635815, 0.10387355, 0.0906369 , 0.03735708,\n",
              "         0.13537753, 0.03229925],\n",
              "        [0.19813189, 0.05090923, 0.05748103, 0.07527215, 0.09621308,\n",
              "         0.05609016, 0.06635815, 0.10387355, 0.0906369 , 0.03735708,\n",
              "         0.13537753, 0.03229925],\n",
              "        [0.19813189, 0.05090923, 0.05748103, 0.07527215, 0.09621308,\n",
              "         0.05609016, 0.06635815, 0.10387355, 0.0906369 , 0.03735708,\n",
              "         0.13537753, 0.03229925],\n",
              "        [0.19813189, 0.05090923, 0.05748103, 0.07527215, 0.09621308,\n",
              "         0.05609016, 0.06635815, 0.10387355, 0.0906369 , 0.03735708,\n",
              "         0.13537753, 0.03229925],\n",
              "        [0.19813189, 0.05090923, 0.05748103, 0.07527215, 0.09621308,\n",
              "         0.05609016, 0.06635815, 0.10387355, 0.0906369 , 0.03735708,\n",
              "         0.13537753, 0.03229925],\n",
              "        [0.19813189, 0.05090923, 0.05748103, 0.07527215, 0.09621308,\n",
              "         0.05609016, 0.06635815, 0.10387355, 0.0906369 , 0.03735708,\n",
              "         0.13537753, 0.03229925],\n",
              "        [0.19813189, 0.05090923, 0.05748103, 0.07527215, 0.09621308,\n",
              "         0.05609016, 0.06635815, 0.10387355, 0.0906369 , 0.03735708,\n",
              "         0.13537753, 0.03229925],\n",
              "        [0.19813189, 0.05090923, 0.05748103, 0.07527215, 0.09621308,\n",
              "         0.05609016, 0.06635815, 0.10387355, 0.0906369 , 0.03735708,\n",
              "         0.13537753, 0.03229925],\n",
              "        [0.19813189, 0.05090923, 0.05748103, 0.07527215, 0.09621308,\n",
              "         0.05609016, 0.06635815, 0.10387355, 0.0906369 , 0.03735708,\n",
              "         0.13537753, 0.03229925],\n",
              "        [0.19813189, 0.05090923, 0.05748103, 0.07527215, 0.09621308,\n",
              "         0.05609016, 0.06635815, 0.10387355, 0.0906369 , 0.03735708,\n",
              "         0.13537753, 0.03229925],\n",
              "        [0.19813189, 0.05090923, 0.05748103, 0.07527215, 0.09621308,\n",
              "         0.05609016, 0.06635815, 0.10387355, 0.0906369 , 0.03735708,\n",
              "         0.13537753, 0.03229925],\n",
              "        [0.19813189, 0.05090923, 0.05748103, 0.07527215, 0.09621308,\n",
              "         0.05609016, 0.06635815, 0.10387355, 0.0906369 , 0.03735708,\n",
              "         0.13537753, 0.03229925],\n",
              "        [0.19813189, 0.05090923, 0.05748103, 0.07527215, 0.09621308,\n",
              "         0.05609016, 0.06635815, 0.10387355, 0.0906369 , 0.03735708,\n",
              "         0.13537753, 0.03229925],\n",
              "        [0.19813189, 0.05090923, 0.05748103, 0.07527215, 0.09621308,\n",
              "         0.05609016, 0.06635815, 0.10387355, 0.0906369 , 0.03735708,\n",
              "         0.13537753, 0.03229925],\n",
              "        [0.19813189, 0.05090923, 0.05748103, 0.07527215, 0.09621308,\n",
              "         0.05609016, 0.06635815, 0.10387355, 0.0906369 , 0.03735708,\n",
              "         0.13537753, 0.03229925],\n",
              "        [0.19813189, 0.05090923, 0.05748103, 0.07527215, 0.09621308,\n",
              "         0.05609016, 0.06635815, 0.10387355, 0.0906369 , 0.03735708,\n",
              "         0.13537753, 0.03229925],\n",
              "        [0.19813189, 0.05090923, 0.05748103, 0.07527215, 0.09621308,\n",
              "         0.05609016, 0.06635815, 0.10387355, 0.0906369 , 0.03735708,\n",
              "         0.13537753, 0.03229925],\n",
              "        [0.19813189, 0.05090923, 0.05748103, 0.07527215, 0.09621308,\n",
              "         0.05609016, 0.06635815, 0.10387355, 0.0906369 , 0.03735708,\n",
              "         0.13537753, 0.03229925],\n",
              "        [0.19813189, 0.05090923, 0.05748103, 0.07527215, 0.09621308,\n",
              "         0.05609016, 0.06635815, 0.10387355, 0.0906369 , 0.03735708,\n",
              "         0.13537753, 0.03229925],\n",
              "        [0.19813189, 0.05090923, 0.05748103, 0.07527215, 0.09621308,\n",
              "         0.05609016, 0.06635815, 0.10387355, 0.0906369 , 0.03735708,\n",
              "         0.13537753, 0.03229925],\n",
              "        [0.19813189, 0.05090923, 0.05748103, 0.07527215, 0.09621308,\n",
              "         0.05609016, 0.06635815, 0.10387355, 0.0906369 , 0.03735708,\n",
              "         0.13537753, 0.03229925],\n",
              "        [0.19813189, 0.05090923, 0.05748103, 0.07527215, 0.09621308,\n",
              "         0.05609016, 0.06635815, 0.10387355, 0.0906369 , 0.03735708,\n",
              "         0.13537753, 0.03229925],\n",
              "        [0.19813189, 0.05090923, 0.05748103, 0.07527215, 0.09621308,\n",
              "         0.05609016, 0.06635815, 0.10387355, 0.0906369 , 0.03735708,\n",
              "         0.13537753, 0.03229925],\n",
              "        [0.19813189, 0.05090923, 0.05748103, 0.07527215, 0.09621308,\n",
              "         0.05609016, 0.06635815, 0.10387355, 0.0906369 , 0.03735708,\n",
              "         0.13537753, 0.03229925],\n",
              "        [0.19813189, 0.05090923, 0.05748103, 0.07527215, 0.09621308,\n",
              "         0.05609016, 0.06635815, 0.10387355, 0.0906369 , 0.03735708,\n",
              "         0.13537753, 0.03229925]]))"
            ]
          },
          "metadata": {
            "tags": []
          },
          "execution_count": 76
        }
      ]
    }
  ]
}